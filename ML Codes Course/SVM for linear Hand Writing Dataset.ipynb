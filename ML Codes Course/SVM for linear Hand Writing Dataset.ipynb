{
 "cells": [
  {
   "cell_type": "code",
   "execution_count": null,
   "metadata": {
    "collapsed": false
   },
   "outputs": [],
   "source": []
  },
  {
   "cell_type": "markdown",
   "metadata": {},
   "source": [
    "\n",
    "# Recognizing hand-written digits\n",
    "\n",
    "\n",
    "An example showing how the scikit-learn can be used to recognize images of\n",
    "hand-written digits.\n",
    "\n",
    "This example is commented in the\n",
    ":ref:`tutorial section of the user manual <introduction>`.\n",
    "\n"
   ]
  },
  {
   "cell_type": "code",
   "execution_count": 12,
   "metadata": {
    "collapsed": false
   },
   "outputs": [
    {
     "name": "stderr",
     "output_type": "stream",
     "text": [
      "/home/chhavi/anaconda3/lib/python3.5/site-packages/sklearn/cross_validation.py:44: DeprecationWarning: This module was deprecated in version 0.18 in favor of the model_selection module into which all the refactored classes and functions are moved. Also note that the interface of the new CV iterators are different from that of this module. This module will be removed in 0.20.\n",
      "  \"This module will be removed in 0.20.\", DeprecationWarning)\n"
     ]
    }
   ],
   "source": [
    "%matplotlib inline\n",
    "import matplotlib.pyplot as plt\n",
    "\n",
    "# Import datasets, classifiers and performance metrics\n",
    "from sklearn import datasets, svm, metrics\n",
    "from sklearn import cross_validation"
   ]
  },
  {
   "cell_type": "code",
   "execution_count": 2,
   "metadata": {
    "collapsed": false
   },
   "outputs": [
    {
     "data": {
      "image/png": "[encoded data removed]",
      "text/plain": [
       "<matplotlib.figure.Figure at 0x7f522faa5b38>"
      ]
     },
     "metadata": {},
     "output_type": "display_data"
    }
   ],
   "source": [
    "# The digits dataset\n",
    "digits = datasets.load_digits()\n",
    "\n",
    "\n",
    "# The data that we are interested in is made of 8x8 images of digits, let's\n",
    "# have a look at the first 4 images, stored in the `images` attribute of the\n",
    "# dataset.  If we were working from image files, we could load them using\n",
    "# matplotlib.pyplot.imread.  Note that each image must have the same size. For these\n",
    "# images, we know which digit they represent: it is given in the 'target' of\n",
    "# the dataset.\n",
    "images_and_labels = list(zip(digits.images, digits.target))\n",
    "for index, (image, label) in enumerate(images_and_labels[:4]):\n",
    "    plt.subplot(2, 4, index + 1)\n",
    "    plt.axis('off')\n",
    "    plt.imshow(image, cmap=plt.cm.gray_r, interpolation='nearest')\n",
    "    plt.title('Training: %i' % label)"
   ]
  },
  {
   "cell_type": "code",
   "execution_count": 10,
   "metadata": {
    "collapsed": false
   },
   "outputs": [
    {
     "name": "stdout",
     "output_type": "stream",
     "text": [
      "(1797, 8, 8)\n"
     ]
    },
    {
     "data": {
      "text/plain": [
       "(1797, 64)"
      ]
     },
     "execution_count": 10,
     "metadata": {},
     "output_type": "execute_result"
    }
   ],
   "source": [
    "\n",
    "# To apply a classifier on this data, we need to flatten the image, to\n",
    "# turn the data in a (samples, feature) matrix:\n",
    "n_samples = len(digits.images)\n",
    "print(digits.images.shape)\n",
    "data = digits.images.reshape((n_samples, -1))\n",
    "data.shape"
   ]
  },
  {
   "cell_type": "code",
   "execution_count": 22,
   "metadata": {
    "collapsed": false
   },
   "outputs": [],
   "source": [
    "# Create a classifier: a support vector classifier\n",
    "classifier = svm.SVC(kernel = 'linear',gamma=0.05, C = 5)\n",
    "\n",
    "# We learn the digits on the first half of the digits\n",
    "X_train, X_test, Y_train, Y_test = cross_validation.train_test_split(data, digits.target, test_size = 0.2)\n",
    "#classifier.fit(data[:n_samples // 2], digits.target[:n_samples // 2])\n",
    "classifier.fit(X_train, Y_train)\n",
    "# Now predict the value of the digit on the second half:\n",
    "expected = Y_test\n",
    "predicted = classifier.predict(X_test)\n"
   ]
  },
  {
   "cell_type": "code",
   "execution_count": 23,
   "metadata": {
    "collapsed": false
   },
   "outputs": [
    {
     "name": "stdout",
     "output_type": "stream",
     "text": [
      "0.980555555556\n",
      "Classification report for classifier SVC(C=5, cache_size=200, class_weight=None, coef0=0.0,\n",
      "  decision_function_shape=None, degree=3, gamma=0.05, kernel='linear',\n",
      "  max_iter=-1, probability=False, random_state=None, shrinking=True,\n",
      "  tol=0.001, verbose=False):\n",
      "             precision    recall  f1-score   support\n",
      "\n",
      "          0       1.00      1.00      1.00        37\n",
      "          1       1.00      0.96      0.98        27\n",
      "          2       1.00      1.00      1.00        36\n",
      "          3       0.94      0.94      0.94        36\n",
      "          4       1.00      1.00      1.00        30\n",
      "          5       0.98      1.00      0.99        42\n",
      "          6       1.00      1.00      1.00        39\n",
      "          7       0.98      1.00      0.99        40\n",
      "          8       0.97      0.91      0.94        35\n",
      "          9       0.95      0.97      0.96        38\n",
      "\n",
      "avg / total       0.98      0.98      0.98       360\n",
      "\n",
      "\n",
      "Confusion matrix:\n",
      "[[37  0  0  0  0  0  0  0  0  0]\n",
      " [ 0 26  0  0  0  0  0  0  0  1]\n",
      " [ 0  0 36  0  0  0  0  0  0  0]\n",
      " [ 0  0  0 34  0  1  0  0  0  1]\n",
      " [ 0  0  0  0 30  0  0  0  0  0]\n",
      " [ 0  0  0  0  0 42  0  0  0  0]\n",
      " [ 0  0  0  0  0  0 39  0  0  0]\n",
      " [ 0  0  0  0  0  0  0 40  0  0]\n",
      " [ 0  0  0  2  0  0  0  1 32  0]\n",
      " [ 0  0  0  0  0  0  0  0  1 37]]\n"
     ]
    }
   ],
   "source": [
    "print(classifier.score(X_test, Y_test))\n",
    "print(\"Classification report for classifier %s:\\n%s\\n\"\n",
    "      % (classifier, metrics.classification_report(expected, predicted)))\n",
    "print(\"Confusion matrix:\\n%s\" % metrics.confusion_matrix(expected, predicted))"
   ]
  },
  {
   "cell_type": "code",
   "execution_count": 26,
   "metadata": {
    "collapsed": true
   },
   "outputs": [],
   "source": [
    "# Create a classifier: a support vector classifier\n",
    "classifier = svm.SVC(kernel = 'rbf')\n",
    "\n",
    "# We learn the digits on the first half of the digits\n",
    "X_train, X_test, Y_train, Y_test = cross_validation.train_test_split(data, digits.target, test_size = 0.2)\n",
    "#classifier.fit(data[:n_samples // 2], digits.target[:n_samples // 2])\n",
    "classifier.fit(X_train, Y_train)\n",
    "# Now predict the value of the digit on the second half:\n",
    "expected = Y_test\n",
    "predicted = classifier.predict(X_test)\n"
   ]
  },
  {
   "cell_type": "code",
   "execution_count": 27,
   "metadata": {
    "collapsed": false
   },
   "outputs": [
    {
     "name": "stdout",
     "output_type": "stream",
     "text": [
      "0.5\n",
      "Classification report for classifier SVC(C=1.0, cache_size=200, class_weight=None, coef0=0.0,\n",
      "  decision_function_shape=None, degree=3, gamma='auto', kernel='rbf',\n",
      "  max_iter=-1, probability=False, random_state=None, shrinking=True,\n",
      "  tol=0.001, verbose=False):\n",
      "             precision    recall  f1-score   support\n",
      "\n",
      "          0       1.00      0.57      0.73        40\n",
      "          1       1.00      0.59      0.74        29\n",
      "          2       0.13      1.00      0.23        27\n",
      "          3       1.00      0.65      0.79        37\n",
      "          4       1.00      0.41      0.58        37\n",
      "          5       1.00      0.70      0.83        37\n",
      "          6       1.00      0.53      0.69        36\n",
      "          7       1.00      0.45      0.62        33\n",
      "          8       1.00      0.02      0.04        44\n",
      "          9       1.00      0.33      0.49        40\n",
      "\n",
      "avg / total       0.93      0.50      0.57       360\n",
      "\n",
      "\n",
      "Confusion matrix:\n",
      "[[23  0 17  0  0  0  0  0  0  0]\n",
      " [ 0 17 12  0  0  0  0  0  0  0]\n",
      " [ 0  0 27  0  0  0  0  0  0  0]\n",
      " [ 0  0 13 24  0  0  0  0  0  0]\n",
      " [ 0  0 22  0 15  0  0  0  0  0]\n",
      " [ 0  0 11  0  0 26  0  0  0  0]\n",
      " [ 0  0 17  0  0  0 19  0  0  0]\n",
      " [ 0  0 18  0  0  0  0 15  0  0]\n",
      " [ 0  0 43  0  0  0  0  0  1  0]\n",
      " [ 0  0 27  0  0  0  0  0  0 13]]\n"
     ]
    }
   ],
   "source": [
    "print(classifier.score(X_test, Y_test))\n",
    "print(\"Classification report for classifier %s:\\n%s\\n\"\n",
    "      % (classifier, metrics.classification_report(expected, predicted)))\n",
    "print(\"Confusion matrix:\\n%s\" % metrics.confusion_matrix(expected, predicted))"
   ]
  },
  {
   "cell_type": "code",
   "execution_count": 28,
   "metadata": {
    "collapsed": true
   },
   "outputs": [],
   "source": [
    "from sklearn import ensemble\n",
    "RFC = ensemble.RandomForestClassifier()"
   ]
  },
  {
   "cell_type": "code",
   "execution_count": 30,
   "metadata": {
    "collapsed": false
   },
   "outputs": [],
   "source": [
    "RFC.fit(X_train, Y_train)\n",
    "#RFC.score(X_test, Y_test)\n",
    "expected = Y_test\n",
    "predicted = RFC.predict(X_test)"
   ]
  },
  {
   "cell_type": "code",
   "execution_count": 31,
   "metadata": {
    "collapsed": false
   },
   "outputs": [
    {
     "name": "stdout",
     "output_type": "stream",
     "text": [
      "0.955555555556\n",
      "Classification report for classifier SVC(C=1.0, cache_size=200, class_weight=None, coef0=0.0,\n",
      "  decision_function_shape=None, degree=3, gamma='auto', kernel='rbf',\n",
      "  max_iter=-1, probability=False, random_state=None, shrinking=True,\n",
      "  tol=0.001, verbose=False):\n",
      "             precision    recall  f1-score   support\n",
      "\n",
      "          0       0.95      1.00      0.98        40\n",
      "          1       0.88      0.97      0.92        29\n",
      "          2       0.96      1.00      0.98        27\n",
      "          3       1.00      0.92      0.96        37\n",
      "          4       1.00      0.97      0.99        37\n",
      "          5       0.88      1.00      0.94        37\n",
      "          6       0.97      0.97      0.97        36\n",
      "          7       0.97      0.97      0.97        33\n",
      "          8       0.97      0.86      0.92        44\n",
      "          9       0.97      0.93      0.95        40\n",
      "\n",
      "avg / total       0.96      0.96      0.96       360\n",
      "\n",
      "\n",
      "Confusion matrix:\n",
      "[[40  0  0  0  0  0  0  0  0  0]\n",
      " [ 0 28  0  0  0  0  0  0  1  0]\n",
      " [ 0  0 27  0  0  0  0  0  0  0]\n",
      " [ 0  0  0 34  0  2  1  0  0  0]\n",
      " [ 0  0  0  0 36  0  0  1  0  0]\n",
      " [ 0  0  0  0  0 37  0  0  0  0]\n",
      " [ 1  0  0  0  0  0 35  0  0  0]\n",
      " [ 0  0  0  0  0  1  0 32  0  0]\n",
      " [ 1  3  1  0  0  0  0  0 38  1]\n",
      " [ 0  1  0  0  0  2  0  0  0 37]]\n"
     ]
    }
   ],
   "source": [
    "print(RFC.score(X_test, Y_test))\n",
    "print(\"Classification report for classifier %s:\\n%s\\n\"\n",
    "      % (classifier, metrics.classification_report(expected, predicted)))\n",
    "print(\"Confusion matrix:\\n%s\" % metrics.confusion_matrix(expected, predicted))"
   ]
  },
  {
   "cell_type": "code",
   "execution_count": null,
   "metadata": {
    "collapsed": true
   },
   "outputs": [],
   "source": [
    "#Repeat with KNN classifer as well. "
   ]
  },
  {
   "cell_type": "code",
   "execution_count": null,
   "metadata": {
    "collapsed": true
   },
   "outputs": [],
   "source": [
    "\n",
    "images_and_predictions = list(zip(digits.images[n_samples // 2:], predicted))\n",
    "for index, (image, prediction) in enumerate(images_and_predictions[:4]):\n",
    "    plt.subplot(2, 4, index + 5)\n",
    "    plt.axis('off')\n",
    "    plt.imshow(image, cmap=plt.cm.gray_r, interpolation='nearest')\n",
    "    plt.title('Prediction: %i' % prediction)\n",
    "\n",
    "plt.show()"
   ]
  }
 ],
 "metadata": {
  "anaconda-cloud": {},
  "kernelspec": {
   "display_name": "Python [default]",
   "language": "python",
   "name": "python3"
  },
  "language_info": {
   "codemirror_mode": {
    "name": "ipython",
    "version": 3
   },
   "file_extension": ".py",
   "mimetype": "text/x-python",
   "name": "python",
   "nbconvert_exporter": "python",
   "pygments_lexer": "ipython3",
   "version": "3.5.2"
  }
 },
 "nbformat": 4,
 "nbformat_minor": 0
}
